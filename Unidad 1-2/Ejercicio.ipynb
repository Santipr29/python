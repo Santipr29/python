{
 "cells": [
  {
   "cell_type": "markdown",
   "metadata": {},
   "source": [
    "1.Escribe un programa que solicite al usuario ingresar el radio de un círculo y calcule el área. Luego, muestra el resultado en pantalla."
   ]
  },
  {
   "cell_type": "code",
   "execution_count": 1,
   "metadata": {},
   "outputs": [
    {
     "name": "stdout",
     "output_type": "stream",
     "text": [
      "3.141592653589793\n"
     ]
    }
   ],
   "source": [
    "import math\n",
    "radio = float(input(\"Ingrese el radio del círculo: \"))\n",
    "area = math.pi * (radio ** 2)\n",
    "print(area)\n"
   ]
  },
  {
   "cell_type": "markdown",
   "metadata": {},
   "source": [
    "2.Escribe un programa que solicite al usuario ingresar una cantidad de minutos y convierta ese valor a horas y minutos. Luego, muestra el resultado en pantalla."
   ]
  },
  {
   "cell_type": "code",
   "execution_count": 2,
   "metadata": {},
   "outputs": [
    {
     "name": "stdout",
     "output_type": "stream",
     "text": [
      "Equivalente a: 39 horas y 4 minutos.\n"
     ]
    }
   ],
   "source": [
    "minutos = int(input(\"Ingrese la cantidad de minutos: \"))\n",
    "horas = minutos // 60\n",
    "minutos_restantes = minutos % 60\n",
    "print(\"Equivalente a:\", horas, \"horas y\", minutos_restantes, \"minutos.\")"
   ]
  },
  {
   "cell_type": "markdown",
   "metadata": {},
   "source": [
    "3.Escribe un programa que solicite al usuario ingresar su peso en kilogramos y su altura en metros (en ese orden), y calcule el índice de masa corporal (IMC). Luego, muestra el resultado en pantalla. Para esto debes ordenar en un orden correcto las opciones:"
   ]
  },
  {
   "cell_type": "code",
   "execution_count": 3,
   "metadata": {},
   "outputs": [
    {
     "name": "stdout",
     "output_type": "stream",
     "text": [
      "23.702422145328722\n"
     ]
    }
   ],
   "source": [
    "peso = float(input(\"Ingrese su peso en kg: \"))\n",
    "altura = float(input(\"Ingrese su altura en m: \"))\n",
    "imc = peso / (altura ** 2)\n",
    "print(imc)"
   ]
  },
  {
   "cell_type": "markdown",
   "metadata": {},
   "source": [
    "4.Escribe un programa que solicite al usuario ingresar el precio original de un producto y un porcentaje de descuento. Luego, calcula el precio con el descuento aplicado y muestra el resultado en pantalla. En este caso, vas a seleccionar las palabras faltantes del código"
   ]
  },
  {
   "cell_type": "markdown",
   "metadata": {},
   "source": [
    "5.Escribe un programa que solicite al usuario ingresar una temperatura en grados Celsius y convierta ese valor a grados Fahrenheit. Luego, muestra el resultado en pantalla."
   ]
  },
  {
   "cell_type": "code",
   "execution_count": 4,
   "metadata": {},
   "outputs": [
    {
     "name": "stdout",
     "output_type": "stream",
     "text": [
      "La temperatura en grados Fahrenheit es: 86.0\n"
     ]
    }
   ],
   "source": [
    "temperatura_celsius = float(input(\"Ingrese la temperatura en grados Celsius: \"))\n",
    "temperatura_fahrenheit = (temperatura_celsius * 9/5) + 32\n",
    "print(\"La temperatura en grados Fahrenheit es:\", temperatura_fahrenheit)"
   ]
  }
 ],
 "metadata": {
  "kernelspec": {
   "display_name": "Python 3",
   "language": "python",
   "name": "python3"
  },
  "language_info": {
   "codemirror_mode": {
    "name": "ipython",
    "version": 3
   },
   "file_extension": ".py",
   "mimetype": "text/x-python",
   "name": "python",
   "nbconvert_exporter": "python",
   "pygments_lexer": "ipython3",
   "version": "3.12.4"
  }
 },
 "nbformat": 4,
 "nbformat_minor": 2
}
