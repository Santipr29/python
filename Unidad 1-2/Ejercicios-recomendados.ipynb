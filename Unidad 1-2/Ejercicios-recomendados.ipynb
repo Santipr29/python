{
 "cells": [
  {
   "cell_type": "markdown",
   "metadata": {},
   "source": [
    "Numero 1: Crea una variable llamada 'mensaje' y asígnale el valor \"Hola, Python!\""
   ]
  },
  {
   "cell_type": "code",
   "execution_count": 1,
   "metadata": {},
   "outputs": [
    {
     "name": "stdout",
     "output_type": "stream",
     "text": [
      "Hola,Python!\n"
     ]
    }
   ],
   "source": [
    "mensaje = \"Hola,Python!\"\n",
    "print(mensaje)"
   ]
  },
  {
   "cell_type": "markdown",
   "metadata": {},
   "source": [
    "Numero 2: Crea una lista con nombres de ritmos musicales y muestra el tercer elemento."
   ]
  },
  {
   "cell_type": "code",
   "execution_count": 2,
   "metadata": {},
   "outputs": [
    {
     "name": "stdout",
     "output_type": "stream",
     "text": [
      "corridos\n"
     ]
    }
   ],
   "source": [
    "ritmos_musicales = [\"salsa\",\"bachata\",\"merengue\",\"corridos\",\"pop\"]\n",
    "print(ritmos_musicales[3])"
   ]
  },
  {
   "cell_type": "markdown",
   "metadata": {},
   "source": [
    "Numero 3: Calcula el área de un rectángulo con base 5 y altura 3."
   ]
  },
  {
   "cell_type": "code",
   "execution_count": 3,
   "metadata": {},
   "outputs": [
    {
     "name": "stdout",
     "output_type": "stream",
     "text": [
      "15\n"
     ]
    }
   ],
   "source": [
    "base = 5\n",
    "altura = 3\n",
    "area_rectangulo = base * altura\n",
    "print(area_rectangulo)"
   ]
  },
  {
   "cell_type": "markdown",
   "metadata": {},
   "source": [
    "Numero 4: Implementa un programa que determine si un número es par o impar."
   ]
  },
  {
   "cell_type": "code",
   "execution_count": 1,
   "metadata": {},
   "outputs": [
    {
     "name": "stdout",
     "output_type": "stream",
     "text": [
      "El número 3 es impar.\n"
     ]
    }
   ],
   "source": [
    "numero_usuario = int(input(\"Ingresa un número: \"))\n",
    "\n",
    "if numero_usuario % 2 == 0:\n",
    "    print(f\"El número {numero_usuario} es par.\")\n",
    "else:\n",
    "    print(f\"El número {numero_usuario} es impar.\")"
   ]
  },
  {
   "cell_type": "markdown",
   "metadata": {},
   "source": [
    "Numero 5: Intenta usar una palabra reservada como nombre de variable y observa qué sucede."
   ]
  },
  {
   "cell_type": "code",
   "execution_count": 4,
   "metadata": {},
   "outputs": [
    {
     "ename": "SyntaxError",
     "evalue": "invalid syntax (2630263448.py, line 1)",
     "output_type": "error",
     "traceback": [
      "\u001b[1;36m  Cell \u001b[1;32mIn[4], line 1\u001b[1;36m\u001b[0m\n\u001b[1;33m    if = 5\u001b[0m\n\u001b[1;37m       ^\u001b[0m\n\u001b[1;31mSyntaxError\u001b[0m\u001b[1;31m:\u001b[0m invalid syntax\n"
     ]
    }
   ],
   "source": [
    "if = 5"
   ]
  },
  {
   "cell_type": "markdown",
   "metadata": {},
   "source": [
    "Numero 6: Calcula el resultado de la siguiente expresión matemática: (10 + 5) * 2 / 3"
   ]
  },
  {
   "cell_type": "code",
   "execution_count": null,
   "metadata": {},
   "outputs": [],
   "source": [
    "resultado = (10 + 5) * 2 / 3\n",
    "print(resultado)"
   ]
  },
  {
   "cell_type": "markdown",
   "metadata": {},
   "source": [
    "numero 7: Crea una lista de números y muestra la suma de todos los elementos."
   ]
  },
  {
   "cell_type": "code",
   "execution_count": null,
   "metadata": {},
   "outputs": [
    {
     "name": "stdout",
     "output_type": "stream",
     "text": [
      "45\n"
     ]
    }
   ],
   "source": [
    "numeros = [1,2,3,4,5,6,7,8,9]\n",
    "print(sum(numeros))"
   ]
  },
  {
   "cell_type": "markdown",
   "metadata": {},
   "source": [
    "Numero 8: Solicita al usuario ingresar un número e indica si es positivo, negativo o cero."
   ]
  },
  {
   "cell_type": "code",
   "execution_count": 3,
   "metadata": {},
   "outputs": [
    {
     "name": "stdout",
     "output_type": "stream",
     "text": [
      "El número 0.0 es cero.\n"
     ]
    }
   ],
   "source": [
    "numero_x = float(input(\"Ingresa un número: \"))\n",
    "\n",
    "if numero_x > 0:\n",
    "    print(f\"El número {numero_x} es positivo.\")\n",
    "elif numero_x < 0:\n",
    "    print(f\"El número {numero_x} es negativo.\")\n",
    "else:\n",
    "    print(f\"El número {numero_x} es cero.\")"
   ]
  },
  {
   "cell_type": "markdown",
   "metadata": {},
   "source": [
    "Numero 9: Crea una cadena e imprime cada caracter en una línea. (sin usar ciclos)"
   ]
  },
  {
   "cell_type": "code",
   "execution_count": null,
   "metadata": {},
   "outputs": [
    {
     "name": "stdout",
     "output_type": "stream",
     "text": [
      "m\n",
      "a\n",
      "n\n",
      "g\n",
      "o\n"
     ]
    }
   ],
   "source": [
    "palabra = \"mango\"\n",
    "print(palabra[0])\n",
    "print(palabra[1])\n",
    "print(palabra[2])\n",
    "print(palabra[3])\n",
    "print(palabra[4])"
   ]
  },
  {
   "cell_type": "markdown",
   "metadata": {},
   "source": [
    "Numero 10: Define una función que calcule el área de un círculo dado su radio."
   ]
  },
  {
   "cell_type": "code",
   "execution_count": 4,
   "metadata": {},
   "outputs": [
    {
     "name": "stdout",
     "output_type": "stream",
     "text": [
      "78.53981633974483\n"
     ]
    }
   ],
   "source": [
    "import math\n",
    "radio = float(input(\"Ingrese el radio del círculo: \"))\n",
    "area_circulo = math.pi * (radio ** 2)\n",
    "print(area_circulo)"
   ]
  },
  {
   "cell_type": "markdown",
   "metadata": {},
   "source": [
    "Numero 11: Crea un diccionario con nombres de personas y sus edades. Imprime la edad de una persona específica."
   ]
  },
  {
   "cell_type": "code",
   "execution_count": 6,
   "metadata": {},
   "outputs": [
    {
     "name": "stdout",
     "output_type": "stream",
     "text": [
      "La edad de Juan es: 25\n"
     ]
    }
   ],
   "source": [
    "edades = {\n",
    "    \"Juan\": 25,\n",
    "    \"María\": 30,\n",
    "    \"Pedro\": 22,\n",
    "    \"Ana\": 28\n",
    "}\n",
    "\n",
    "nombre_persona = input(\"Ingresa el nombre de la persona: \")\n",
    "\n",
    "if nombre_persona in edades:\n",
    "    print(f\"La edad de {nombre_persona} es: {edades[nombre_persona]}\")\n",
    "else:\n",
    "    print(f\"{nombre_persona} no se encuentra en el diccionario.\")"
   ]
  },
  {
   "cell_type": "markdown",
   "metadata": {},
   "source": [
    "Numero 12: Utiliza el módulo 'random' para generar un número aleatorio entre 1 y 10."
   ]
  },
  {
   "cell_type": "code",
   "execution_count": null,
   "metadata": {},
   "outputs": [
    {
     "name": "stdout",
     "output_type": "stream",
     "text": [
      "6\n"
     ]
    }
   ],
   "source": [
    "import random\n",
    "numero_aleatorio = random.randint(1,10)\n",
    "print(numero_aleatorio)"
   ]
  },
  {
   "cell_type": "markdown",
   "metadata": {},
   "source": [
    "Numero 13: Calcula la suma, resta, multiplicación y división de dos números sin usar condicionales ni bucles."
   ]
  },
  {
   "cell_type": "code",
   "execution_count": 7,
   "metadata": {},
   "outputs": [
    {
     "name": "stdout",
     "output_type": "stream",
     "text": [
      "La suma de 10.0 y 5.0 es: 15.0\n",
      "La resta de 10.0 y 5.0 es: 5.0\n",
      "La multiplicación de 10.0 y 5.0 es: 50.0\n",
      "La división de 10.0 y 5.0 es: 2.0\n"
     ]
    }
   ],
   "source": [
    "numero1 = float(input(\"Ingresa el primer número: \"))\n",
    "numero2 = float(input(\"Ingresa el segundo número: \"))\n",
    "\n",
    "suma = numero1 + numero2\n",
    "\n",
    "resta = numero1 - numero2\n",
    "\n",
    "multiplicacion = numero1 * numero2\n",
    "\n",
    "division = numero1 / numero2\n",
    "\n",
    "print(f\"La suma de {numero1} y {numero2} es: {suma}\")\n",
    "print(f\"La resta de {numero1} y {numero2} es: {resta}\")\n",
    "print(f\"La multiplicación de {numero1} y {numero2} es: {multiplicacion}\")\n",
    "print(f\"La división de {numero1} y {numero2} es: {division}\")"
   ]
  },
  {
   "cell_type": "markdown",
   "metadata": {},
   "source": [
    "Numero 14: Crea dos listas y concaténalas sin usar condicionales ni bucles."
   ]
  },
  {
   "cell_type": "code",
   "execution_count": null,
   "metadata": {},
   "outputs": [
    {
     "name": "stdout",
     "output_type": "stream",
     "text": [
      "['madrid', 'barcelona', 'valencia', 'bogota', 'cali', 'medellin']\n"
     ]
    }
   ],
   "source": [
    "lista1 = [\"madrid\", \"barcelona\", \"valencia\"]\n",
    "lista2 = [\"bogota\", \"cali\", \"medellin\"]\n",
    "print(lista1 + lista2)"
   ]
  },
  {
   "cell_type": "markdown",
   "metadata": {},
   "source": [
    "Numero 15: Crea dos cadenas e imprime la concatenación sin usar condicionales ni bucles."
   ]
  },
  {
   "cell_type": "code",
   "execution_count": null,
   "metadata": {},
   "outputs": [
    {
     "name": "stdout",
     "output_type": "stream",
     "text": [
      "Soy Santiago, estudiante de DMI\n"
     ]
    }
   ],
   "source": [
    "cadena1 = \"Soy Santiago,\"\n",
    "cadena2 = \"estudiante de DMI\"\n",
    "print(f'{cadena1} {cadena2}')"
   ]
  },
  {
   "cell_type": "markdown",
   "metadata": {},
   "source": [
    "Numero 16: Crea una lista y añade un elemento sin usar condicionales ni bucles."
   ]
  },
  {
   "cell_type": "code",
   "execution_count": null,
   "metadata": {},
   "outputs": [
    {
     "name": "stdout",
     "output_type": "stream",
     "text": [
      "['colombia', 'ecuador', 'venezuela', 'gran colombia']\n"
     ]
    }
   ],
   "source": [
    "lista = [\"colombia\", \"ecuador\", \"venezuela\"]\n",
    "print(lista + [\"gran colombia\"])"
   ]
  },
  {
   "cell_type": "markdown",
   "metadata": {},
   "source": [
    "Numero 17: Crea dos diccionarios y únelos sin usar condicionales ni bucles."
   ]
  },
  {
   "cell_type": "code",
   "execution_count": 8,
   "metadata": {},
   "outputs": [
    {
     "name": "stdout",
     "output_type": "stream",
     "text": [
      "El diccionario unido es: {'a': 1, 'b': 2, 'c': 3, 'd': 4, 'e': 5, 'f': 6}\n"
     ]
    }
   ],
   "source": [
    "diccionario1 = {\"a\": 1, \"b\": 2, \"c\": 3}\n",
    "diccionario2 = {\"d\": 4, \"e\": 5, \"f\": 6}\n",
    "\n",
    "diccionario_unido = diccionario1 | diccionario2\n",
    "\n",
    "print(f\"El diccionario unido es: {diccionario_unido}\")"
   ]
  },
  {
   "cell_type": "markdown",
   "metadata": {},
   "source": [
    "Numero 18: Crea dos conjuntos y encuentra la unión sin usar condicionales ni bucles."
   ]
  },
  {
   "cell_type": "code",
   "execution_count": 9,
   "metadata": {},
   "outputs": [
    {
     "name": "stdout",
     "output_type": "stream",
     "text": [
      "La unión de los conjuntos es: {1, 2, 3, 4, 5}\n"
     ]
    }
   ],
   "source": [
    "conjunto1 = {1, 2, 3}\n",
    "conjunto2 = {3, 4, 5}\n",
    "\n",
    "union_conjuntos = conjunto1.union(conjunto2)\n",
    "\n",
    "print(f\"La unión de los conjuntos es: {union_conjuntos}\")"
   ]
  },
  {
   "cell_type": "markdown",
   "metadata": {},
   "source": [
    "Numero 19: Obtén la fecha y hora actual sin usar condicionales ni bucles."
   ]
  },
  {
   "cell_type": "code",
   "execution_count": 10,
   "metadata": {},
   "outputs": [
    {
     "name": "stdout",
     "output_type": "stream",
     "text": [
      "La fecha y hora actual es: 2024-08-07 09:06:49.556377\n"
     ]
    }
   ],
   "source": [
    "from datetime import datetime\n",
    "\n",
    "fecha_hora_actual = datetime.now()\n",
    "\n",
    "print(f\"La fecha y hora actual es: {fecha_hora_actual}\")"
   ]
  },
  {
   "cell_type": "markdown",
   "metadata": {},
   "source": [
    "Numero 20: Calcula la longitud de una cadena sin usar condicionales ni bucles."
   ]
  },
  {
   "cell_type": "code",
   "execution_count": null,
   "metadata": {},
   "outputs": [
    {
     "name": "stdout",
     "output_type": "stream",
     "text": [
      "6\n"
     ]
    }
   ],
   "source": [
    "cadena = \"futbol\"\n",
    "print(len(cadena))"
   ]
  },
  {
   "cell_type": "markdown",
   "metadata": {},
   "source": [
    "Numero 21: Convierte una cadena a mayúsculas y otra a minúsculas sin usar condicionales ni bucles."
   ]
  },
  {
   "cell_type": "code",
   "execution_count": null,
   "metadata": {},
   "outputs": [
    {
     "name": "stdout",
     "output_type": "stream",
     "text": [
      "MAYUSCULAS\n",
      "minusculas\n"
     ]
    }
   ],
   "source": [
    "cadena_mayus = \"mayusculas\"\n",
    "cadena_minus = \"MINUSCULAS\"\n",
    "\n",
    "print(cadena_mayus.upper())\n",
    "print(cadena_minus.lower())"
   ]
  },
  {
   "cell_type": "markdown",
   "metadata": {},
   "source": [
    "Numero 22: Reemplaza una subcadena en una cadena principal sin usar condicionales ni bucles."
   ]
  },
  {
   "cell_type": "code",
   "execution_count": 11,
   "metadata": {},
   "outputs": [
    {
     "name": "stdout",
     "output_type": "stream",
     "text": [
      "La cadena modificada es: Hola, universo. Bienvenidos al universo de Python.\n"
     ]
    }
   ],
   "source": [
    "cadena_principal = \"Hola, mundo. Bienvenidos al mundo de Python.\"\n",
    "\n",
    "cadena_modificada = cadena_principal.replace(\"mundo\", \"universo\")\n",
    "\n",
    "print(f\"La cadena modificada es: {cadena_modificada}\")"
   ]
  },
  {
   "cell_type": "markdown",
   "metadata": {},
   "source": [
    "Numero 23: Divide una cadena en palabras sin usar condicionales ni bucles."
   ]
  },
  {
   "cell_type": "code",
   "execution_count": null,
   "metadata": {},
   "outputs": [
    {
     "name": "stdout",
     "output_type": "stream",
     "text": [
      "['El', 'mejor', 'club', 'del', 'mundo', 'es', 'el', 'Barcelona']\n"
     ]
    }
   ],
   "source": [
    "cadena_larga = \"El mejor club del mundo es el Barcelona\"\n",
    "print(cadena_larga.split())"
   ]
  },
  {
   "cell_type": "markdown",
   "metadata": {},
   "source": [
    "Numero 24: Concatena tres cadenas diferentes sin usar condicionales ni bucles."
   ]
  },
  {
   "cell_type": "code",
   "execution_count": null,
   "metadata": {},
   "outputs": [
    {
     "name": "stdout",
     "output_type": "stream",
     "text": [
      "Santiago Perez Ramirez\n"
     ]
    }
   ],
   "source": [
    "nombre = \"Santiago\"\n",
    "apellido1 = \"Perez\"\n",
    "apellido2 = \"Ramirez\"\n",
    "\n",
    "print(f'{nombre} {apellido1} {apellido2}')"
   ]
  },
  {
   "cell_type": "markdown",
   "metadata": {},
   "source": [
    "Numero 25: Crea dos listas y extiende la primera con los elementos de la segunda sin usar condicionales ni bucles."
   ]
  },
  {
   "cell_type": "code",
   "execution_count": 6,
   "metadata": {},
   "outputs": [
    {
     "name": "stdout",
     "output_type": "stream",
     "text": [
      "[1, 2, 3, 4, 5, 6, 7, 8, 9, 10]\n"
     ]
    }
   ],
   "source": [
    "notas1 = [1, 2, 3, 4, 5]\n",
    "notas2 = [6, 7, 8, 9, 10]\n",
    "\n",
    "notas1.extend(notas2)\n",
    "print(notas1)"
   ]
  },
  {
   "cell_type": "markdown",
   "metadata": {},
   "source": [
    "Numero 26: Elimina un elemento específico de una lista sin usar condicionales ni bucles."
   ]
  },
  {
   "cell_type": "code",
   "execution_count": 17,
   "metadata": {},
   "outputs": [
    {
     "name": "stdout",
     "output_type": "stream",
     "text": [
      "[4, 69, 13]\n"
     ]
    }
   ],
   "source": [
    "lista_random = [4, 69, 96, 13]\n",
    "lista_random.remove(96)\n",
    "\n",
    "print(lista_random)"
   ]
  },
  {
   "cell_type": "markdown",
   "metadata": {},
   "source": [
    "Numero 27: Encuentra el índice de un elemento en una lista sin usar condicionales ni bucles."
   ]
  },
  {
   "cell_type": "code",
   "execution_count": 18,
   "metadata": {},
   "outputs": [
    {
     "name": "stdout",
     "output_type": "stream",
     "text": [
      "3\n"
     ]
    }
   ],
   "source": [
    "listado = [\"juan\", \"jose\", \"jair\", \"julio\"]\n",
    "print(listado.index(\"julio\"))\n"
   ]
  },
  {
   "cell_type": "markdown",
   "metadata": {},
   "source": [
    "Numero 28: Ordena una lista de números de forma ascendente sin usar condicionales ni bucles."
   ]
  },
  {
   "cell_type": "code",
   "execution_count": 20,
   "metadata": {},
   "outputs": [
    {
     "name": "stdout",
     "output_type": "stream",
     "text": [
      "[1, 2, 3, 4, 5, 6]\n"
     ]
    }
   ],
   "source": [
    "listado_numeros = [ 6, 5, 4, 3, 2, 1]\n",
    "listado_numeros.sort()\n",
    "print(listado_numeros)"
   ]
  },
  {
   "cell_type": "markdown",
   "metadata": {},
   "source": [
    "Numero 29: Cuenta cuántas veces aparece un elemento en una lista sin usar condicionales ni bucles."
   ]
  },
  {
   "cell_type": "code",
   "execution_count": 21,
   "metadata": {},
   "outputs": [
    {
     "name": "stdout",
     "output_type": "stream",
     "text": [
      "5\n"
     ]
    }
   ],
   "source": [
    "estado = [\"Aprobado\", \"No aprobado\", \"Aprobado\", \"Aprobado\", \"No aprobado\", \"Aprobado\", \"No aprobado\", \"Aprobado\"]\n",
    "cantidad_aprobados = estado.count(\"Aprobado\")\n",
    "\n",
    "print(cantidad_aprobados)"
   ]
  },
  {
   "cell_type": "markdown",
   "metadata": {},
   "source": [
    "Numero 30: Calcula 2 elevado a la 5ta potencia sin usar condicionales ni bucles."
   ]
  },
  {
   "cell_type": "code",
   "execution_count": 22,
   "metadata": {},
   "outputs": [
    {
     "name": "stdout",
     "output_type": "stream",
     "text": [
      "32\n"
     ]
    }
   ],
   "source": [
    "calculo = 2 ** 5\n",
    "print(calculo)"
   ]
  },
  {
   "cell_type": "markdown",
   "metadata": {},
   "source": [
    "Numero 31: Realiza la división entera de 17 entre 3 sin usar condicionales ni bucles."
   ]
  },
  {
   "cell_type": "code",
   "execution_count": 24,
   "metadata": {},
   "outputs": [
    {
     "name": "stdout",
     "output_type": "stream",
     "text": [
      "5\n"
     ]
    }
   ],
   "source": [
    "division = 17//3\n",
    "print(division)"
   ]
  },
  {
   "cell_type": "markdown",
   "metadata": {},
   "source": [
    "Numero 32: Calcula el resto de la división de 20 entre 7 sin usar condicionales ni bucles."
   ]
  },
  {
   "cell_type": "code",
   "execution_count": 29,
   "metadata": {},
   "outputs": [
    {
     "name": "stdout",
     "output_type": "stream",
     "text": [
      "6\n"
     ]
    }
   ],
   "source": [
    "division2 = 20 % 7\n",
    "print(division2)"
   ]
  },
  {
   "cell_type": "markdown",
   "metadata": {},
   "source": [
    "Numero 33: Redondea el número 3.14159 a dos decimales sin usar condicionales ni bucles."
   ]
  },
  {
   "cell_type": "code",
   "execution_count": 31,
   "metadata": {},
   "outputs": [
    {
     "name": "stdout",
     "output_type": "stream",
     "text": [
      "3.14\n"
     ]
    }
   ],
   "source": [
    "redondeo = 3.14159\n",
    "print(\"%.2f\" % redondeo)"
   ]
  },
  {
   "cell_type": "markdown",
   "metadata": {},
   "source": [
    "Numero 34: Realiza la operación (4 + 3) * (2 - 1) sin usar condicionales ni bucles."
   ]
  },
  {
   "cell_type": "code",
   "execution_count": 32,
   "metadata": {},
   "outputs": [
    {
     "name": "stdout",
     "output_type": "stream",
     "text": [
      "7\n"
     ]
    }
   ],
   "source": [
    "operacion_final = (4 + 3) * (2 - 1)\n",
    "print(operacion_final)"
   ]
  }
 ],
 "metadata": {
  "kernelspec": {
   "display_name": "Python 3",
   "language": "python",
   "name": "python3"
  },
  "language_info": {
   "codemirror_mode": {
    "name": "ipython",
    "version": 3
   },
   "file_extension": ".py",
   "mimetype": "text/x-python",
   "name": "python",
   "nbconvert_exporter": "python",
   "pygments_lexer": "ipython3",
   "version": "3.12.4"
  }
 },
 "nbformat": 4,
 "nbformat_minor": 2
}
