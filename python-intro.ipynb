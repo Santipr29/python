{
 "cells": [
  {
   "cell_type": "markdown",
   "id": "2e3c53b4",
   "metadata": {},
   "source": [
    "# Python Intro 🐍\n",
    "Este ejercicio tiene como objetivo practicar algunas nociones básicas de Python"
   ]
  },
  {
   "cell_type": "markdown",
   "id": "bcb29d4a",
   "metadata": {},
   "source": [
    "##  📕 Operaciones con Strings (str)"
   ]
  },
  {
   "cell_type": "markdown",
   "id": "230d3edb",
   "metadata": {},
   "source": [
    "Dividir el string dado según los espacios, obteniendo como resultado una lista de las palabras"
   ]
  },
  {
   "cell_type": "code",
   "execution_count": 3,
   "id": "aff586b8",
   "metadata": {},
   "outputs": [],
   "source": [
    "s = \"The universe doesn't allow perfection\""
   ]
  },
  {
   "cell_type": "markdown",
   "id": "5c67ffa1",
   "metadata": {},
   "source": [
    "Dado el siguiente texto construya un programa que cuente los caracteres sin contar los espacios:"
   ]
  },
  {
   "cell_type": "code",
   "execution_count": null,
   "id": "867c8042",
   "metadata": {},
   "outputs": [],
   "source": [
    "s = \"El pasado puede doler, pero tal como yo lo veo, puedes huir o aprender de él\""
   ]
  },
  {
   "cell_type": "markdown",
   "id": "c4df37c8",
   "metadata": {},
   "source": [
    "Dado el siguiente texto, remplazar la palbra \"apple\" por \"banana\""
   ]
  },
  {
   "cell_type": "code",
   "execution_count": 17,
   "id": "df679a5c",
   "metadata": {
    "ExecuteTime": {
     "end_time": "2023-02-08T18:34:38.407350Z",
     "start_time": "2023-02-08T18:34:38.399801Z"
    }
   },
   "outputs": [],
   "source": [
    "s = \"If you wish to make an apple pie from scratch, you must first invent the universe\""
   ]
  },
  {
   "cell_type": "markdown",
   "id": "cdb55f48",
   "metadata": {},
   "source": [
    "Usar .format() para imprimir el siguiente string:\n",
    "- The diameter of Earth is 12742 kilometers"
   ]
  },
  {
   "cell_type": "code",
   "execution_count": null,
   "id": "055a6401",
   "metadata": {},
   "outputs": [],
   "source": [
    "planet = \"Earth\"\n",
    "diameter = 12742"
   ]
  },
  {
   "cell_type": "markdown",
   "id": "9c2bc104",
   "metadata": {},
   "source": [
    "## 🍕 Operaciones con Listas"
   ]
  },
  {
   "cell_type": "markdown",
   "id": "17a218a4",
   "metadata": {},
   "source": [
    "Dada la siguiente lista, obtener los primeros 3 elementos en una lista disferente (no modificar la lista original)"
   ]
  },
  {
   "cell_type": "code",
   "execution_count": 7,
   "id": "a6d580df",
   "metadata": {},
   "outputs": [],
   "source": [
    "lst = [0, 1, 2, 3, 4, 5, 6, 7, 8, 9, 10]"
   ]
  },
  {
   "cell_type": "markdown",
   "id": "44307638",
   "metadata": {},
   "source": [
    "Dada la siguiente lista, obtener los últimos 3 elementos en una lista diferente (no modificar la lista original)"
   ]
  },
  {
   "cell_type": "code",
   "execution_count": 8,
   "id": "9c0d08be",
   "metadata": {},
   "outputs": [],
   "source": [
    "lst = [0, 1, 2, 3, 4, 5, 6, 7, 8, 9, 10]"
   ]
  },
  {
   "cell_type": "markdown",
   "id": "4f0367a7",
   "metadata": {},
   "source": [
    "Dada la siguiente lista, obtener solo los números pares"
   ]
  },
  {
   "cell_type": "code",
   "execution_count": 10,
   "id": "82bb87e7",
   "metadata": {},
   "outputs": [],
   "source": [
    "lst = [0, 1, 2, 3, 4, 5, 6, 7, 8, 9, 10]"
   ]
  },
  {
   "cell_type": "markdown",
   "id": "afbd0165",
   "metadata": {},
   "source": [
    "Dada la siguiente lista, revertir la lista"
   ]
  },
  {
   "cell_type": "code",
   "execution_count": 11,
   "id": "a9de014d",
   "metadata": {},
   "outputs": [],
   "source": [
    "lst = [0, 1, 2, 3, 4, 5, 6, 7, 8, 9, 10]"
   ]
  },
  {
   "cell_type": "markdown",
   "id": "19cb7d3d",
   "metadata": {},
   "source": [
    "Ordenar la siguiente lista de menor a mayor"
   ]
  },
  {
   "cell_type": "code",
   "execution_count": 14,
   "id": "4cbb0ec6",
   "metadata": {},
   "outputs": [],
   "source": [
    "lst = [4, 1, 6, 12, 3, 2, 1, 7, 1, 0, 14]"
   ]
  },
  {
   "cell_type": "markdown",
   "id": "aab9554c",
   "metadata": {},
   "source": [
    "Dada la siguiente lista, seleccionar e imprimir la palabra \"Hello\""
   ]
  },
  {
   "cell_type": "code",
   "execution_count": 1,
   "id": "0baa850a",
   "metadata": {
    "ExecuteTime": {
     "end_time": "2023-02-06T20:46:28.438222Z",
     "start_time": "2023-02-06T20:46:28.426867Z"
    }
   },
   "outputs": [],
   "source": [
    "lst = [1,2,[3,4],[5,[100,200,['hello']],23,11],1,7]"
   ]
  },
  {
   "cell_type": "markdown",
   "id": "4e7485bd",
   "metadata": {},
   "source": [
    "***(Dificultad: medianamente complicado)*** Ordenar la siguiente lista de diccionarios de mayor a menor y de menor a mayor según el valor de 'age'"
   ]
  },
  {
   "cell_type": "code",
   "execution_count": 20,
   "id": "0a08b09e",
   "metadata": {},
   "outputs": [],
   "source": [
    "lst = [\n",
    "    {\n",
    "        \"name\": \"A\",\n",
    "        \"age\": 12\n",
    "    },\n",
    "        {\n",
    "        \"name\": \"B\",\n",
    "        \"age\": 22\n",
    "    },\n",
    "        {\n",
    "        \"name\": \"C\",\n",
    "        \"age\": 2\n",
    "    },\n",
    "        {\n",
    "        \"name\": \"D\",\n",
    "        \"age\": 4\n",
    "    },\n",
    "        {\n",
    "        \"name\": \"E\",\n",
    "        \"age\": 42\n",
    "    },\n",
    "]"
   ]
  },
  {
   "cell_type": "markdown",
   "id": "3e4b4828",
   "metadata": {},
   "source": [
    "## 🔥 Funciones\n",
    "***Principalmente existen 2 formas de crear funciones en python***"
   ]
  },
  {
   "cell_type": "code",
   "execution_count": 4,
   "id": "1fe1e0fb",
   "metadata": {
    "ExecuteTime": {
     "end_time": "2023-02-08T01:54:06.052825Z",
     "start_time": "2023-02-08T01:54:06.046614Z"
    }
   },
   "outputs": [],
   "source": [
    "#1. def\n",
    "def function_name_1 (a, b, c):\n",
    "    #some logic\n",
    "    return 'Lo que se va a retornar en esta función'\n",
    "\n",
    "#2. lambda -> muy utilizada para pasarla como argumento dentro de otra función\n",
    "function_name_2 = lambda a, b, c: 'luego de los puntos va lo que se retorna'"
   ]
  },
  {
   "cell_type": "markdown",
   "id": "cbe57dde",
   "metadata": {},
   "source": [
    "Crear una función que reciba de entrada un correo electrónico en formato string, y retorne el dominio (lo que va desúes de @)\n",
    "- Entrada: user@domain.com\n",
    "- Salida esperada: domain.com"
   ]
  },
  {
   "cell_type": "raw",
   "id": "f08d8be8",
   "metadata": {},
   "source": []
  },
  {
   "cell_type": "markdown",
   "id": "1955a405",
   "metadata": {},
   "source": [
    "Usar la expresión lambda para filtrar las palabras que no inicien en s de la siguiente lista"
   ]
  },
  {
   "cell_type": "code",
   "execution_count": 12,
   "id": "a7b81ad7",
   "metadata": {},
   "outputs": [],
   "source": [
    "seq = ['soup','dog','salad','cat','great']"
   ]
  },
  {
   "cell_type": "markdown",
   "id": "fa54904f",
   "metadata": {},
   "source": [
    "Crear una función que reciba 2 parámetros, el primero un frase, y el segundo una palabra (ambos son de tipo string), esta función recisará si la palabra (segundo parámetro) se enceuntra en la frase (primer parámetro), slo retornará True o False según el caso."
   ]
  },
  {
   "cell_type": "code",
   "execution_count": null,
   "id": "cb0184b4",
   "metadata": {},
   "outputs": [],
   "source": []
  },
  {
   "cell_type": "markdown",
   "id": "f9430ee2",
   "metadata": {},
   "source": [
    "Cree una función básica que devuelva True si la palabra 'dog' está contenida en el string dado"
   ]
  },
  {
   "cell_type": "code",
   "execution_count": null,
   "id": "7a5720c3",
   "metadata": {},
   "outputs": [],
   "source": [
    "s = \"Is there a dog here?\""
   ]
  },
  {
   "cell_type": "markdown",
   "id": "293c55f4",
   "metadata": {},
   "source": [
    "Cree una función que cuente el número de veces que aparece la palabra \"dog\" en el string dado"
   ]
  },
  {
   "cell_type": "code",
   "execution_count": 1,
   "id": "874ded88",
   "metadata": {
    "ExecuteTime": {
     "end_time": "2023-02-09T01:28:18.956800Z",
     "start_time": "2023-02-09T01:28:18.939272Z"
    }
   },
   "outputs": [],
   "source": [
    "s = \"This dog runs faster than the other dog dude!\""
   ]
  },
  {
   "cell_type": "markdown",
   "id": "a93135a9",
   "metadata": {},
   "source": [
    "## 🍎 Numpy básico\n",
    "La documentación oficial de numpy esta aquí: <a href=\"https://numpy.org/doc/stable/reference/index.html#reference\">Numpy reference</a>"
   ]
  },
  {
   "cell_type": "markdown",
   "id": "16457fa5",
   "metadata": {},
   "source": [
    "Importa numpy como np"
   ]
  },
  {
   "cell_type": "code",
   "execution_count": null,
   "id": "e2dbf833",
   "metadata": {},
   "outputs": [],
   "source": []
  },
  {
   "cell_type": "markdown",
   "id": "3157153e",
   "metadata": {},
   "source": [
    "Crea un arreglo de 10 ceros"
   ]
  },
  {
   "cell_type": "code",
   "execution_count": null,
   "id": "605d3d0f",
   "metadata": {},
   "outputs": [],
   "source": []
  },
  {
   "cell_type": "markdown",
   "id": "e8bff575",
   "metadata": {},
   "source": [
    "Crea un arreglo de 10 unos"
   ]
  },
  {
   "cell_type": "code",
   "execution_count": null,
   "id": "146079a6",
   "metadata": {},
   "outputs": [],
   "source": []
  },
  {
   "cell_type": "markdown",
   "id": "0d9c50ac",
   "metadata": {},
   "source": [
    "Crea un arreglo de 10 cincos"
   ]
  },
  {
   "cell_type": "code",
   "execution_count": null,
   "id": "e41e46c3",
   "metadata": {},
   "outputs": [],
   "source": []
  },
  {
   "cell_type": "markdown",
   "id": "2b00f679",
   "metadata": {},
   "source": [
    "Crea un areglo de enteros (int) de 10 a 50"
   ]
  },
  {
   "cell_type": "code",
   "execution_count": null,
   "id": "b721e67f",
   "metadata": {},
   "outputs": [],
   "source": []
  },
  {
   "cell_type": "markdown",
   "id": "44784f36",
   "metadata": {},
   "source": [
    "Crea una matrix de 3x3 con los valores de 0 a 8\n",
    "-> Revisar método ***reshape***"
   ]
  },
  {
   "cell_type": "code",
   "execution_count": null,
   "id": "0dbc15f4",
   "metadata": {},
   "outputs": [],
   "source": []
  },
  {
   "cell_type": "markdown",
   "id": "99c1708d",
   "metadata": {},
   "source": [
    "Crea un arreglo de tamaño 20 lleno de valores aleatorios entre 10 y 100"
   ]
  },
  {
   "cell_type": "code",
   "execution_count": null,
   "id": "321a8e5c",
   "metadata": {},
   "outputs": [],
   "source": []
  },
  {
   "cell_type": "markdown",
   "id": "f106c47b",
   "metadata": {},
   "source": [
    "## 🎋 Pandas básico\n",
    "La documentación oficial de pandas esta aquí: <a href=\"https://pandas.pydata.org/docs/\">Pandas reference</a>"
   ]
  },
  {
   "cell_type": "markdown",
   "id": "7e109d11",
   "metadata": {},
   "source": [
    "Importa pandas como ***pd***"
   ]
  },
  {
   "cell_type": "code",
   "execution_count": null,
   "id": "2d1db13e",
   "metadata": {},
   "outputs": [],
   "source": []
  },
  {
   "cell_type": "markdown",
   "id": "de5cb1ec",
   "metadata": {},
   "source": [
    "Leer Salaries.csv como un dataframe y llamarlo sal"
   ]
  },
  {
   "cell_type": "code",
   "execution_count": null,
   "id": "29f92354",
   "metadata": {},
   "outputs": [],
   "source": []
  },
  {
   "cell_type": "markdown",
   "id": "dd755fdb",
   "metadata": {},
   "source": [
    "Revisar el head del dataframe (usar el métdodo head())"
   ]
  },
  {
   "cell_type": "code",
   "execution_count": null,
   "id": "62a84934",
   "metadata": {},
   "outputs": [],
   "source": []
  },
  {
   "cell_type": "markdown",
   "id": "90a7f4b5",
   "metadata": {},
   "source": [
    "¿Cual es el BasePay promedio?"
   ]
  },
  {
   "cell_type": "code",
   "execution_count": null,
   "id": "cb72a9b6",
   "metadata": {},
   "outputs": [],
   "source": []
  },
  {
   "cell_type": "markdown",
   "id": "eaaa464d",
   "metadata": {},
   "source": [
    "¿Cuál es la cantidad más alta de OvertimePay en el conjunto de datos?"
   ]
  },
  {
   "cell_type": "code",
   "execution_count": null,
   "id": "fca7b92a",
   "metadata": {},
   "outputs": [],
   "source": []
  },
  {
   "cell_type": "markdown",
   "id": "268c8007",
   "metadata": {},
   "source": [
    "¿Cuál es el cargo de JOSEPH DRISCOLL? Nota: use mayúsculas, de lo contrario, puede obtener una respuesta que no coincida (también hay un Joseph Driscoll en minúsculas)"
   ]
  },
  {
   "cell_type": "code",
   "execution_count": null,
   "id": "659e2230",
   "metadata": {},
   "outputs": [],
   "source": []
  },
  {
   "cell_type": "markdown",
   "id": "eb39df2d",
   "metadata": {},
   "source": [
    "¿Cuál es el nombre de la persona mejor pagada (incluidos los beneficios)?"
   ]
  },
  {
   "cell_type": "code",
   "execution_count": null,
   "id": "ddac498e",
   "metadata": {},
   "outputs": [],
   "source": []
  },
  {
   "cell_type": "markdown",
   "id": "7a302953",
   "metadata": {},
   "source": [
    "¿Cuántos títulos de trabajo únicos hay?"
   ]
  },
  {
   "cell_type": "code",
   "execution_count": null,
   "id": "92b31ed8",
   "metadata": {},
   "outputs": [],
   "source": []
  },
  {
   "cell_type": "markdown",
   "id": "5d05dc94",
   "metadata": {},
   "source": [
    "## 🍎 Numpy básico\n",
    "la documentación oficial de numpy esta aquí: <a href=\"https://numpy.org/doc/stable/reference/index.html#reference\">Numpy reference</a>"
   ]
  },
  {
   "cell_type": "markdown",
   "id": "c0524910",
   "metadata": {},
   "source": [
    "##  ✨ Bonus"
   ]
  },
  {
   "cell_type": "markdown",
   "id": "34f96787",
   "metadata": {},
   "source": [
    "Usando un API construya un programa que muestre la tasa de conversión entre COP y USD, puede usar: <a href=\"https://exchangeratesapi.io/\">Exchange API</a>\n",
    "- Para interactuar con APIs pueden importar esta librería: ***requests***, <a href=\"https://requests.readthedocs.io/en/latest/\">Aquí su documentación</a>"
   ]
  },
  {
   "cell_type": "code",
   "execution_count": null,
   "id": "083a39a8",
   "metadata": {},
   "outputs": [],
   "source": []
  }
 ],
 "metadata": {
  "kernelspec": {
   "display_name": "Python 3 (ipykernel)",
   "language": "python",
   "name": "python3"
  },
  "language_info": {
   "codemirror_mode": {
    "name": "ipython",
    "version": 3
   },
   "file_extension": ".py",
   "mimetype": "text/x-python",
   "name": "python",
   "nbconvert_exporter": "python",
   "pygments_lexer": "ipython3",
   "version": "3.9.10"
  }
 },
 "nbformat": 4,
 "nbformat_minor": 5
}
