{
 "cells": [
  {
   "cell_type": "markdown",
   "metadata": {},
   "source": [
    "Numero 1: Solicita al usuario un número e imprime si es positivo."
   ]
  },
  {
   "cell_type": "code",
   "execution_count": 2,
   "metadata": {},
   "outputs": [
    {
     "name": "stdout",
     "output_type": "stream",
     "text": [
      "El número -4.0 no es positivo.\n"
     ]
    }
   ],
   "source": [
    "numero = float(input(\"Ingresa un número: \"))\n",
    "\n",
    "if numero > 0:\n",
    "    print(f\"El número {numero} es positivo.\")\n",
    "else:\n",
    "    print(f\"El número {numero} no es positivo.\")"
   ]
  },
  {
   "cell_type": "markdown",
   "metadata": {},
   "source": [
    "Numero 2: Solicita al usuario dos números e imprime el mayor de ellos."
   ]
  },
  {
   "cell_type": "code",
   "execution_count": 4,
   "metadata": {},
   "outputs": [
    {
     "name": "stdout",
     "output_type": "stream",
     "text": [
      "10.0\n"
     ]
    }
   ],
   "source": [
    "numero1 = float(input(\"Ingresa un número: \"))\n",
    "numero2 = float(input(\"Ingresa un número: \"))\n",
    "\n",
    "if numero1 > numero2:\n",
    "    mayor = numero1\n",
    "else:\n",
    "    mayor = numero2\n",
    "\n",
    "print(mayor)"
   ]
  },
  {
   "cell_type": "markdown",
   "metadata": {},
   "source": [
    "Numero 3: Solicita al usuario un día de la semana e imprime si es laborable, fin de semana o inválido."
   ]
  },
  {
   "cell_type": "code",
   "execution_count": 7,
   "metadata": {},
   "outputs": [
    {
     "name": "stdout",
     "output_type": "stream",
     "text": [
      "domingo es un fin de semana.\n"
     ]
    }
   ],
   "source": [
    "dia = input(\"Ingresa un día de la semana: \")\n",
    "\n",
    "if dia in [\"lunes\", \"martes\", \"miércoles\", \"jueves\", \"viernes\"]:\n",
    "    print(f\"{dia} es un día laborable.\")\n",
    "elif dia in [\"sábado\", \"domingo\"]:\n",
    "    print(f\"{dia} es un fin de semana.\")\n",
    "else:\n",
    "    print(\"Día inválido. Por favor ingresa un día de la semana válido.\")"
   ]
  },
  {
   "cell_type": "markdown",
   "metadata": {},
   "source": [
    "Numero 4: Imprime los números del 1 al 5 utilizando un bucle while."
   ]
  },
  {
   "cell_type": "code",
   "execution_count": 8,
   "metadata": {},
   "outputs": [
    {
     "name": "stdout",
     "output_type": "stream",
     "text": [
      "1\n",
      "2\n",
      "3\n",
      "4\n",
      "5\n"
     ]
    }
   ],
   "source": [
    "contador = 1\n",
    "\n",
    "while contador <= 5:\n",
    "    print(contador)\n",
    "    contador += 1"
   ]
  },
  {
   "cell_type": "markdown",
   "metadata": {},
   "source": [
    "Numero 5: Imprime los cuadrados de los números del 1 al 3 utilizando un bucle for."
   ]
  },
  {
   "cell_type": "code",
   "execution_count": 11,
   "metadata": {},
   "outputs": [
    {
     "name": "stdout",
     "output_type": "stream",
     "text": [
      "El cuadrado de 1 es: 1\n",
      "El cuadrado de 2 es: 4\n",
      "El cuadrado de 3 es: 9\n"
     ]
    }
   ],
   "source": [
    "for numero_cuadrado in range(1, 4):\n",
    "    cuadrado = numero_cuadrado ** 2\n",
    "    print(f\"El cuadrado de {numero_cuadrado} es: {cuadrado}\")"
   ]
  },
  {
   "cell_type": "markdown",
   "metadata": {},
   "source": [
    "Numero 6: Solicita al usuario su edad e imprime si es niño, adolescente, adulto o anciano."
   ]
  },
  {
   "cell_type": "code",
   "execution_count": 12,
   "metadata": {},
   "outputs": [
    {
     "name": "stdout",
     "output_type": "stream",
     "text": [
      "Eres un adulto.\n"
     ]
    }
   ],
   "source": [
    "edad_persona = int(input(\"Ingresa tu edad: \"))\n",
    "\n",
    "if edad_persona < 13:\n",
    "    print(\"Eres un niño.\")\n",
    "elif 13 <= edad_persona < 18:\n",
    "    print(\"Eres un adolescente.\")\n",
    "elif 18 <= edad_persona < 65:\n",
    "    print(\"Eres un adulto.\")\n",
    "else:\n",
    "    print(\"Eres un anciano.\")"
   ]
  },
  {
   "cell_type": "markdown",
   "metadata": {},
   "source": [
    "Numero 7: Imprime los números del 1 al 10, pero termina el bucle si encuentra el número 5."
   ]
  },
  {
   "cell_type": "code",
   "execution_count": 13,
   "metadata": {},
   "outputs": [
    {
     "name": "stdout",
     "output_type": "stream",
     "text": [
      "1\n",
      "2\n",
      "3\n",
      "4\n"
     ]
    }
   ],
   "source": [
    "for numbers in range(1, 11):\n",
    "    if numbers == 5:\n",
    "        break  \n",
    "    print(numbers)"
   ]
  },
  {
   "cell_type": "markdown",
   "metadata": {},
   "source": [
    "Numero 8: Imprime los números del 1 al 5, pero omite el número 3."
   ]
  },
  {
   "cell_type": "code",
   "execution_count": 14,
   "metadata": {},
   "outputs": [
    {
     "name": "stdout",
     "output_type": "stream",
     "text": [
      "1\n",
      "2\n",
      "4\n",
      "5\n"
     ]
    }
   ],
   "source": [
    "for numbers2 in range(1, 6):\n",
    "    if numbers2 == 3:\n",
    "        continue\n",
    "    print(numbers2)"
   ]
  },
  {
   "cell_type": "markdown",
   "metadata": {},
   "source": [
    "Numero 9: Imprime los números pares del 2 al 10 utilizando la función range."
   ]
  },
  {
   "cell_type": "code",
   "execution_count": 15,
   "metadata": {},
   "outputs": [
    {
     "name": "stdout",
     "output_type": "stream",
     "text": [
      "2\n",
      "4\n",
      "6\n",
      "8\n",
      "10\n"
     ]
    }
   ],
   "source": [
    "for numbers3 in range(2, 11, 2):\n",
    "    print(numbers3)"
   ]
  },
  {
   "cell_type": "markdown",
   "metadata": {},
   "source": [
    "Numero 10: Imprime si un número es primo o no."
   ]
  },
  {
   "cell_type": "code",
   "execution_count": 18,
   "metadata": {},
   "outputs": [
    {
     "name": "stdout",
     "output_type": "stream",
     "text": [
      "10 no es un número primo.\n"
     ]
    }
   ],
   "source": [
    "numero_posible = int(input(\"Ingresa un número: \"))\n",
    "\n",
    "def es_primo(n):\n",
    "    if n <= 1:\n",
    "        return False\n",
    "    for i in range(2, int(n**0.5) + 1):\n",
    "        if n % i == 0:\n",
    "            return False\n",
    "    return True\n",
    "\n",
    "if es_primo(numero_posible):\n",
    "    print(f\"{numero_posible} es un número primo.\")\n",
    "else:\n",
    "    print(f\"{numero_posible} no es un número primo.\")"
   ]
  },
  {
   "cell_type": "markdown",
   "metadata": {},
   "source": [
    "Numero 11: Imprime los patrones de asteriscos utilizando ciclos anidados. (medio arbol de navidad)"
   ]
  },
  {
   "cell_type": "code",
   "execution_count": 16,
   "metadata": {},
   "outputs": [
    {
     "name": "stdout",
     "output_type": "stream",
     "text": [
      "    *\n",
      "   ***\n",
      "  *****\n",
      " *******\n",
      "*********\n"
     ]
    }
   ],
   "source": [
    "num_filas = 5\n",
    "\n",
    "for i in range(num_filas):\n",
    "    \n",
    "    for j in range(num_filas - i - 1):\n",
    "        print(\" \", end=\"\")\n",
    "    \n",
    "    for k in range(2 * i + 1):\n",
    "        print(\"*\", end=\"\")\n",
    "    \n",
    "    print()"
   ]
  },
  {
   "cell_type": "markdown",
   "metadata": {},
   "source": [
    "Numero 12:  Implementa un bucle que no hace nada usando la declaración pass."
   ]
  },
  {
   "cell_type": "code",
   "execution_count": 19,
   "metadata": {},
   "outputs": [],
   "source": [
    "for i in range(10):\n",
    "    pass"
   ]
  },
  {
   "cell_type": "markdown",
   "metadata": {},
   "source": [
    "Numero 13: Imprime los índices y elementos de una lista utilizando la función enumerate."
   ]
  },
  {
   "cell_type": "code",
   "execution_count": 21,
   "metadata": {},
   "outputs": [
    {
     "name": "stdout",
     "output_type": "stream",
     "text": [
      "Índice: 0, Elemento: a\n",
      "Índice: 1, Elemento: e\n",
      "Índice: 2, Elemento: i\n",
      "Índice: 3, Elemento: o\n",
      "Índice: 4, Elemento: u\n"
     ]
    }
   ],
   "source": [
    "lista = [\"a\", \"e\", \"i\", \"o\", \"u\"]\n",
    "\n",
    "for indice, elemento in enumerate(lista):\n",
    "    print(f\"Índice: {indice}, Elemento: {elemento}\")"
   ]
  },
  {
   "cell_type": "markdown",
   "metadata": {},
   "source": [
    "Numero 14: Combina dos listas e imprime los elementos emparejados utilizando la función zip."
   ]
  },
  {
   "cell_type": "code",
   "execution_count": 22,
   "metadata": {},
   "outputs": [
    {
     "name": "stdout",
     "output_type": "stream",
     "text": [
      "Elemento de lista1: a, Elemento de lista2: 1\n",
      "Elemento de lista1: b, Elemento de lista2: 2\n",
      "Elemento de lista1: c, Elemento de lista2: 3\n",
      "Elemento de lista1: d, Elemento de lista2: 4\n"
     ]
    }
   ],
   "source": [
    "lista1 = ['a', 'b', 'c', 'd']\n",
    "lista2 = [1, 2, 3, 4]\n",
    "\n",
    "for elem1, elem2 in zip(lista1, lista2):\n",
    "    print(f\"Elemento de lista1: {elem1}, Elemento de lista2: {elem2}\")"
   ]
  },
  {
   "cell_type": "markdown",
   "metadata": {},
   "source": [
    "Numero 15: Crea una lista con los cuadrados de los números del 1 al 5 usando list comprehension."
   ]
  },
  {
   "cell_type": "code",
   "execution_count": 23,
   "metadata": {},
   "outputs": [
    {
     "name": "stdout",
     "output_type": "stream",
     "text": [
      "[1, 4, 9, 16, 25]\n"
     ]
    }
   ],
   "source": [
    "cuadrados = [x**2 for x in range(1, 6)]\n",
    "\n",
    "print(cuadrados)"
   ]
  },
  {
   "cell_type": "markdown",
   "metadata": {},
   "source": [
    "Numero 16: Implementa un bucle while que imprime números hasta que alcanza uno mayor que 5."
   ]
  },
  {
   "cell_type": "code",
   "execution_count": 24,
   "metadata": {},
   "outputs": [
    {
     "name": "stdout",
     "output_type": "stream",
     "text": [
      "1\n",
      "2\n",
      "3\n",
      "4\n",
      "5\n",
      "6\n"
     ]
    }
   ],
   "source": [
    "numeros_menores = 1\n",
    "\n",
    "while numeros_menores <= 5:\n",
    "    print(numeros_menores)\n",
    "    numeros_menores += 1  \n",
    "\n",
    "print(numeros_menores)"
   ]
  },
  {
   "cell_type": "markdown",
   "metadata": {},
   "source": [
    "Numero 17: Imprime solo los números pares del 1 al 10 usando continue en un bucle for."
   ]
  },
  {
   "cell_type": "code",
   "execution_count": 25,
   "metadata": {},
   "outputs": [
    {
     "name": "stdout",
     "output_type": "stream",
     "text": [
      "2\n",
      "4\n",
      "6\n",
      "8\n",
      "10\n"
     ]
    }
   ],
   "source": [
    "for pares in range(1, 11):\n",
    "    if pares % 2 != 0:\n",
    "        continue\n",
    "    print(pares)"
   ]
  },
  {
   "cell_type": "markdown",
   "metadata": {},
   "source": [
    "Numero 18: Asigna el valor \"Par\" o \"Impar\" a una variable según la paridad de un número."
   ]
  },
  {
   "cell_type": "code",
   "execution_count": 26,
   "metadata": {},
   "outputs": [
    {
     "name": "stdout",
     "output_type": "stream",
     "text": [
      "El número 5 es Impar.\n"
     ]
    }
   ],
   "source": [
    "numero_usuario = int(input(\"Ingresa un número: \"))\n",
    "\n",
    "if numero_usuario % 2 == 0:\n",
    "    paridad = \"Par\"\n",
    "else:\n",
    "    paridad = \"Impar\"\n",
    "\n",
    "print(f\"El número {numero_usuario} es {paridad}.\")"
   ]
  },
  {
   "cell_type": "markdown",
   "metadata": {},
   "source": [
    "Numero 19: Imprime los números del 1 al 5 y muestra un mensaje al final del bucle usando else en while."
   ]
  },
  {
   "cell_type": "code",
   "execution_count": 27,
   "metadata": {},
   "outputs": [
    {
     "name": "stdout",
     "output_type": "stream",
     "text": [
      "1\n",
      "2\n",
      "3\n",
      "4\n",
      "5\n",
      "El bucle ha terminado.\n"
     ]
    }
   ],
   "source": [
    "numero_mensaje = 1\n",
    "\n",
    "while numero_mensaje <= 5:\n",
    "    print(numero_mensaje)\n",
    "    numero_mensaje += 1\n",
    "else:\n",
    "    print(\"El bucle ha terminado.\")"
   ]
  },
  {
   "cell_type": "markdown",
   "metadata": {},
   "source": [
    "Numero 20: Imprime los números del 5 al 1 en orden descendente usando la función range."
   ]
  },
  {
   "cell_type": "code",
   "execution_count": 28,
   "metadata": {},
   "outputs": [
    {
     "name": "stdout",
     "output_type": "stream",
     "text": [
      "5\n",
      "4\n",
      "3\n",
      "2\n",
      "1\n"
     ]
    }
   ],
   "source": [
    "for descendente in range(5, 0, -1):\n",
    "    print(descendente)"
   ]
  },
  {
   "cell_type": "markdown",
   "metadata": {},
   "source": [
    "Numero 21: Solicita al usuario dos números e imprime si ambos son positivos."
   ]
  },
  {
   "cell_type": "code",
   "execution_count": 30,
   "metadata": {},
   "outputs": [
    {
     "name": "stdout",
     "output_type": "stream",
     "text": [
      "Ambos números son positivos.\n"
     ]
    }
   ],
   "source": [
    "numero1_usuario = float(input(\"Ingresa el primer número: \"))\n",
    "numero2_usuario = float(input(\"Ingresa el segundo número: \"))\n",
    "\n",
    "if numero1_usuario > 0 and numero2_usuario > 0:\n",
    "    print(\"Ambos números son positivos.\")\n",
    "else:\n",
    "    print(\"Uno o ambos números no son positivos.\")"
   ]
  },
  {
   "cell_type": "markdown",
   "metadata": {},
   "source": [
    "Numero 22: Imprime los índices y elementos de una lista solo si el elemento es una vocal."
   ]
  },
  {
   "cell_type": "code",
   "execution_count": 32,
   "metadata": {},
   "outputs": [
    {
     "name": "stdout",
     "output_type": "stream",
     "text": [
      "Índice: 0, Elemento: a\n",
      "Índice: 4, Elemento: e\n",
      "Índice: 8, Elemento: i\n"
     ]
    }
   ],
   "source": [
    "lista_base = ['a', 'b', 'c', 'd', 'e', 'f', 'g', 'h', 'i']\n",
    "\n",
    "vocales = {'a', 'e', 'i', 'o', 'u'}\n",
    "\n",
    "for indice, elemento in enumerate(lista_base):\n",
    "    if elemento in vocales:\n",
    "        print(f\"Índice: {indice}, Elemento: {elemento}\")"
   ]
  },
  {
   "cell_type": "markdown",
   "metadata": {},
   "source": [
    "Numero 23: Solicita al usuario un número e imprime si no es igual a cero."
   ]
  },
  {
   "cell_type": "code",
   "execution_count": 35,
   "metadata": {},
   "outputs": [
    {
     "name": "stdout",
     "output_type": "stream",
     "text": [
      "El número -10.0 no es igual a cero.\n"
     ]
    }
   ],
   "source": [
    "numero_igual = float(input(\"Ingresa un número: \"))\n",
    "\n",
    "if numero_igual != 0:\n",
    "    print(f\"El número {numero_igual} no es igual a cero.\")\n",
    "else:\n",
    "    print(\"El número ingresado es cero.\")"
   ]
  },
  {
   "cell_type": "markdown",
   "metadata": {},
   "source": [
    "Numero 24: Crea una lista de tuplas con la suma de elementos emparejados de dos listas."
   ]
  },
  {
   "cell_type": "code",
   "execution_count": 36,
   "metadata": {},
   "outputs": [
    {
     "name": "stdout",
     "output_type": "stream",
     "text": [
      "[6, 8, 10, 12]\n"
     ]
    }
   ],
   "source": [
    "listas1 = [1, 2, 3, 4]\n",
    "listas2 = [5, 6, 7, 8]\n",
    "\n",
    "suma_listas = [(x + y) for x, y in zip(listas1, listas2)]\n",
    "\n",
    "print(suma_listas)"
   ]
  },
  {
   "cell_type": "markdown",
   "metadata": {},
   "source": [
    "Numero 25: Solicita al usuario su edad y no realiza ninguna acción si es mayor de 18."
   ]
  },
  {
   "cell_type": "code",
   "execution_count": 38,
   "metadata": {},
   "outputs": [
    {
     "name": "stdout",
     "output_type": "stream",
     "text": [
      "Tu edad es 18 o menor.\n"
     ]
    }
   ],
   "source": [
    "edad = int(input(\"Ingresa tu edad: \"))\n",
    "\n",
    "if edad > 18:\n",
    "    pass  \n",
    "else:\n",
    "    print(\"Tu edad es 18 o menor.\")"
   ]
  },
  {
   "cell_type": "markdown",
   "metadata": {},
   "source": [
    "Numero 26: Imprime los índices y elementos de una lista solo si el índice es par."
   ]
  },
  {
   "cell_type": "code",
   "execution_count": 39,
   "metadata": {},
   "outputs": [
    {
     "name": "stdout",
     "output_type": "stream",
     "text": [
      "Índice: 0, Elemento: a\n",
      "Índice: 2, Elemento: c\n",
      "Índice: 4, Elemento: e\n"
     ]
    }
   ],
   "source": [
    "lista_par = ['a', 'b', 'c', 'd', 'e']\n",
    "\n",
    "for indice, elemento in enumerate(lista_par):\n",
    "    if indice % 2 == 0:\n",
    "        print(f\"Índice: {indice}, Elemento: {elemento}\")"
   ]
  },
  {
   "cell_type": "markdown",
   "metadata": {},
   "source": [
    "Numero 27: Calcula la suma de los números del 1 al 10 utilizando la función range."
   ]
  },
  {
   "cell_type": "code",
   "execution_count": 41,
   "metadata": {},
   "outputs": [
    {
     "name": "stdout",
     "output_type": "stream",
     "text": [
      "55\n"
     ]
    }
   ],
   "source": [
    "suma = sum(range(1, 11))\n",
    "\n",
    "print(suma)"
   ]
  },
  {
   "cell_type": "markdown",
   "metadata": {},
   "source": [
    "Numero 28: Imprime el tipo de número (par o impar) solo si el número es positivo."
   ]
  },
  {
   "cell_type": "code",
   "execution_count": 44,
   "metadata": {},
   "outputs": [
    {
     "name": "stdout",
     "output_type": "stream",
     "text": [
      "El número no es positivo.\n"
     ]
    }
   ],
   "source": [
    "numero_positivo = int(input(\"Ingresa un número: \"))\n",
    "\n",
    "if numero_positivo > 0:\n",
    "    \n",
    "    if numero_positivo % 2 == 0:\n",
    "        print(\"El número es par.\")\n",
    "    else:\n",
    "        print(\"El número es impar.\")\n",
    "else:\n",
    "    print(\"El número no es positivo.\")"
   ]
  },
  {
   "cell_type": "markdown",
   "metadata": {},
   "source": [
    "Numero 29: Imprime los números del 1 al 5 y muestra un mensaje si se encuentra el número 3 usando else con for."
   ]
  },
  {
   "cell_type": "code",
   "execution_count": 46,
   "metadata": {},
   "outputs": [
    {
     "name": "stdout",
     "output_type": "stream",
     "text": [
      "1\n",
      "2\n",
      "Se encontró el número 3.\n",
      "4\n",
      "5\n"
     ]
    }
   ],
   "source": [
    "for numero_3 in range(1, 6):\n",
    "    if numero_3 == 3:\n",
    "        print(\"Se encontró el número 3.\")\n",
    "    else:\n",
    "        print(numero_3)"
   ]
  },
  {
   "cell_type": "markdown",
   "metadata": {},
   "source": [
    "Numero 30: Utiliza lambda y filter para obtener los números pares de una lista."
   ]
  },
  {
   "cell_type": "code",
   "execution_count": 47,
   "metadata": {},
   "outputs": [
    {
     "name": "stdout",
     "output_type": "stream",
     "text": [
      "[2, 4, 6, 8, 10]\n"
     ]
    }
   ],
   "source": [
    "numeros_base = [1, 2, 3, 4, 5, 6, 7, 8, 9, 10]\n",
    "\n",
    "numeros_pares = list(filter(lambda x: x % 2 == 0, numeros_base))\n",
    "\n",
    "print(numeros_pares)"
   ]
  },
  {
   "cell_type": "markdown",
   "metadata": {},
   "source": [
    "Numero 31: Utiliza el módulo math para calcular la hipotenusa de un triángulo rectángulo."
   ]
  },
  {
   "cell_type": "code",
   "execution_count": 48,
   "metadata": {},
   "outputs": [
    {
     "name": "stdout",
     "output_type": "stream",
     "text": [
      "La longitud de la hipotenusa es: 14.14\n"
     ]
    }
   ],
   "source": [
    "import math\n",
    "\n",
    "cateto1 = float(input(\"Ingresa la longitud del primer cateto: \"))\n",
    "cateto2 = float(input(\"Ingresa la longitud del segundo cateto: \"))\n",
    "\n",
    "hipotenusa = math.sqrt(cateto1**2 + cateto2**2)\n",
    "\n",
    "print(f\"La longitud de la hipotenusa es: {hipotenusa:.2f}\")"
   ]
  },
  {
   "cell_type": "markdown",
   "metadata": {},
   "source": [
    "Numero 32: Crea dos conjuntos y encuentra la intersección y unión de ellos."
   ]
  },
  {
   "cell_type": "code",
   "execution_count": 49,
   "metadata": {},
   "outputs": [
    {
     "name": "stdout",
     "output_type": "stream",
     "text": [
      "Intersección: {4, 5}\n",
      "Unión: {1, 2, 3, 4, 5, 6, 7, 8}\n"
     ]
    }
   ],
   "source": [
    "conjunto1 = {1, 2, 3, 4, 5}\n",
    "conjunto2 = {4, 5, 6, 7, 8}\n",
    "\n",
    "interseccion = conjunto1 & conjunto2  \n",
    "\n",
    "union = conjunto1 | conjunto2  \n",
    "\n",
    "print(\"Intersección:\", interseccion)\n",
    "print(\"Unión:\", union)"
   ]
  },
  {
   "cell_type": "markdown",
   "metadata": {},
   "source": [
    "Numero 33: Convierte una cadena en una lista de letras usando list comprehension."
   ]
  },
  {
   "cell_type": "code",
   "execution_count": 50,
   "metadata": {},
   "outputs": [
    {
     "name": "stdout",
     "output_type": "stream",
     "text": [
      "['h', 'e', 'l', 'l', 'o']\n"
     ]
    }
   ],
   "source": [
    "cadena = \"hello\"\n",
    "\n",
    "lista_letras = [letra for letra in cadena]\n",
    "\n",
    "print(lista_letras)"
   ]
  },
  {
   "cell_type": "markdown",
   "metadata": {},
   "source": [
    "Numero 34: Convierte una cadena a bytes y luego decodifícala."
   ]
  },
  {
   "cell_type": "code",
   "execution_count": 51,
   "metadata": {},
   "outputs": [
    {
     "name": "stdout",
     "output_type": "stream",
     "text": [
      "Cadena original: Hola, mundo!\n",
      "Cadena en bytes: b'Hola, mundo!'\n",
      "Cadena decodificada: Hola, mundo!\n"
     ]
    }
   ],
   "source": [
    "cadenas = \"Hola, mundo!\"\n",
    "\n",
    "cadena_bytes = cadenas.encode('utf-8')\n",
    "\n",
    "cadena_decodificada = cadena_bytes.decode('utf-8')\n",
    "\n",
    "print(\"Cadena original:\", cadenas)\n",
    "print(\"Cadena en bytes:\", cadena_bytes)\n",
    "print(\"Cadena decodificada:\", cadena_decodificada)"
   ]
  },
  {
   "cell_type": "markdown",
   "metadata": {},
   "source": [
    "Numero 35: Crea una expresión generadora que genere cuadrados de números pares del 2 al 10."
   ]
  },
  {
   "cell_type": "code",
   "execution_count": 52,
   "metadata": {},
   "outputs": [
    {
     "name": "stdout",
     "output_type": "stream",
     "text": [
      "4\n",
      "16\n",
      "36\n",
      "64\n",
      "100\n"
     ]
    }
   ],
   "source": [
    "cuadrados_pares = (n**2 for n in range(2, 11) if n % 2 == 0)\n",
    "\n",
    "for cuadrado in cuadrados_pares:\n",
    "    print(cuadrado)"
   ]
  },
  {
   "cell_type": "markdown",
   "metadata": {},
   "source": [
    "Numero 36: Utiliza expresiones lambda y la función map para elevar al cuadrado los elementos de una lista."
   ]
  },
  {
   "cell_type": "code",
   "execution_count": 53,
   "metadata": {},
   "outputs": [
    {
     "name": "stdout",
     "output_type": "stream",
     "text": [
      "[1, 4, 9, 16, 25]\n"
     ]
    }
   ],
   "source": [
    "numeros_final = [1, 2, 3, 4, 5]\n",
    "\n",
    "cuadrados = list(map(lambda x: x**2, numeros_final))\n",
    "\n",
    "print(cuadrados)"
   ]
  }
 ],
 "metadata": {
  "kernelspec": {
   "display_name": "Python 3",
   "language": "python",
   "name": "python3"
  },
  "language_info": {
   "codemirror_mode": {
    "name": "ipython",
    "version": 3
   },
   "file_extension": ".py",
   "mimetype": "text/x-python",
   "name": "python",
   "nbconvert_exporter": "python",
   "pygments_lexer": "ipython3",
   "version": "3.12.4"
  }
 },
 "nbformat": 4,
 "nbformat_minor": 2
}
